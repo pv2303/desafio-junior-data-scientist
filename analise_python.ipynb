{
 "cells": [
  {
   "cell_type": "markdown",
   "metadata": {},
   "source": [
    "# Resposta às perguntas do arquivo \"perguntas_sql.md\"\n",
    "\n",
    "Este *notebook* tem como objetivo responder às questões 1 a 10 utilizando Python, com ênfase no uso da biblioteca `pandas`. Considerando que a base principal contém mais de 10 milhões de registros, algumas consultas serão realizadas com o método `read_sql()` do pacote `basedosdados`, a fim de obter dados minimamente tratados diretamente do BigQuery.\n",
    "\n",
    "Embora o método `read_sql()` permita responder diretamente às questões utilizando comandos SQL, o foco deste teste técnico é demonstrar proficiência com o `pandas`. Portanto, as consultas SQL foram propositalmente simplificadas para que o tratamento dos dados relevantes às perguntas seja realizado majoritariamente em Python.\n",
    "\n",
    "O notebook está dividido em duas seções:\n",
    "- **Respostas às perguntas 1 a 5**\n",
    "- **Respostas às perguntas 6 a 10**\n",
    "\n",
    "No início de cada seção, há *chunks* de código que devem ser executados previamente. Esses blocos geralmente incluem consultas que retornam bases de dados \"brutas\" necessárias para as questões da seção ou procedimentos que evitam redundâncias — como tratamentos recorrentes utilizados por mais de uma pergunta.\n",
    "\n",
    "**Portanto, para rodar qualquer uma das perguntas de uma seção, é obrigatório executar:**\n",
    "1. O primeiro bloco geral do notebook (logo abaixo deste texto), que carrega bibliotecas e funções auxiliares.\n",
    "2. Os blocos de código logo após o título da seção correspondente (iniciados com `##`), que trazem as bases ou preparações comuns às perguntas daquela seção.\n",
    "\n",
    "Cada subseção de pergunta (marcadas com `###`) contém *chunks* independentes entre si. Ou seja, **você não precisa rodar o código da pergunta 6 para executar a pergunta 7** — desde que os blocos gerais e os da seção já tenham sido executados previamente.\n",
    "\n",
    "Por fim, para executar o presente ipynb, é necessário alterar o objeto `bill_id` que corresponde ao id do seu projeto no *Google Cloud Platform*. Para um tutorial completo da criação de um projeto com sua conta gmail, acesse [aqui](https://docs.dados.rio/tutoriais/como-acessar-dados/)."
   ]
  },
  {
   "cell_type": "code",
   "execution_count": 3,
   "metadata": {},
   "outputs": [],
   "source": [
    "# Libs utilizadas\n",
    "import pandas as pd\n",
    "import basedosdados as bd\n",
    "\n",
    "# billing id para o basedosdados\n",
    "bill_id = \"teste-tecnico-pcrj\"\n",
    "\n",
    "# Funções que serão utilizadas ao longo do notebook\n",
    "\n",
    "def operacao_agrupada_chamados(df: pd.DataFrame,\n",
    "                               colunas: list,\n",
    "                               operacao: str = 'sum'):\n",
    "    \"\"\"\n",
    "    Função para somar chamados agrupando por colunas especificadas. Utilizada no conjunto de respostas 1-5.\n",
    "    \n",
    "    Args:\n",
    "        df (pd.DataFrame): DataFrame com os dados.\n",
    "        colunas (list): Lista com as colunas que serão utilizadas para agrupar os dados.\n",
    "    \n",
    "    Returns:\n",
    "        pd.DataFrame: DataFrame com a soma dos chamados pelos grupos. A última coluna sempre será o total de chamados.\n",
    "    \"\"\"\n",
    "    df_agrupado = (\n",
    "        df.groupby(colunas)\n",
    "        .agg({'total_chamados': f'{operacao}'})\n",
    "        .reset_index()\n",
    "        .sort_values('total_chamados', ascending=False))\n",
    "    \n",
    "    return df_agrupado"
   ]
  },
  {
   "cell_type": "markdown",
   "metadata": {},
   "source": [
    "## Respostas às perguntas 1-5"
   ]
  },
  {
   "cell_type": "code",
   "execution_count": 4,
   "metadata": {},
   "outputs": [
    {
     "name": "stdout",
     "output_type": "stream",
     "text": [
      "Downloading: 100%|\u001b[32m██████████\u001b[0m|\n",
      "Downloading: 100%|\u001b[32m██████████\u001b[0m|\n"
     ]
    }
   ],
   "source": [
    "# preparando objetos para as questões 1-5\n",
    "\n",
    "sql_1 = \"\"\"\n",
    "SELECT \n",
    "  COUNT(id_chamado) AS total_chamados,\n",
    "  DATE(data_inicio) AS data_abertura,\n",
    "  tipo,\n",
    "  subtipo,\n",
    "  id_bairro\n",
    "FROM `datario.adm_central_atendimento_1746.chamado` \n",
    "WHERE DATE(data_inicio)= '2023-04-01'\n",
    "GROUP BY DATE(data_inicio), tipo, subtipo, id_bairro\n",
    "\"\"\"\n",
    "\n",
    "sql_2 = \"\"\"\n",
    "SELECT \n",
    "  id_bairro,\n",
    "  nome AS nome_bairro,\n",
    "  subprefeitura\n",
    "FROM `datario.dados_mestres.bairro`\n",
    "\"\"\"\n",
    "\n",
    "df_base_1 = bd.read_sql(sql_1, billing_project_id=bill_id)\n",
    "df_bairros = bd.read_sql(sql_2, billing_project_id=bill_id)"
   ]
  },
  {
   "cell_type": "markdown",
   "metadata": {},
   "source": [
    "### 1. Quantos chamados foram abertos no dia 01/04/2023?"
   ]
  },
  {
   "cell_type": "code",
   "execution_count": 5,
   "metadata": {},
   "outputs": [
    {
     "name": "stdout",
     "output_type": "stream",
     "text": [
      "R: O total de chamados abertos no dia 01/04/2023 é de 1903 chamados.\n"
     ]
    }
   ],
   "source": [
    "total_chamados_soma = df_base_1['total_chamados'].sum()\n",
    "\n",
    "print(f'R: O total de chamados abertos no dia 01/04/2023 é de {total_chamados_soma} chamados.')"
   ]
  },
  {
   "cell_type": "markdown",
   "metadata": {},
   "source": [
    "### 2. Qual é o tipo de chamado que teve mais chamados abertos no dia 01/04/2023?"
   ]
  },
  {
   "cell_type": "code",
   "execution_count": 6,
   "metadata": {},
   "outputs": [
    {
     "name": "stdout",
     "output_type": "stream",
     "text": [
      "R: O tipo de chamado com maior quantidade de chamados abertos no dia 01/04/2023 é Estacionamento irregular com 373 chamados.\n"
     ]
    }
   ],
   "source": [
    "chamados_por_dia = operacao_agrupada_chamados(df_base_1, ['tipo'])\n",
    "\n",
    "print(f'R: O tipo de chamado com maior quantidade de chamados abertos no dia 01/04/2023 é {chamados_por_dia.iloc[0,0]} com {chamados_por_dia.iloc[0,1]} chamados.')"
   ]
  },
  {
   "cell_type": "markdown",
   "metadata": {},
   "source": [
    "### 3. Quais os nomes dos bairros que mais tiveram chamados abertos nesse dia?"
   ]
  },
  {
   "cell_type": "code",
   "execution_count": 7,
   "metadata": {},
   "outputs": [
    {
     "name": "stdout",
     "output_type": "stream",
     "text": [
      "O top 3 bairros com maior quantidade de chamados abertos no dia 01/04/2023 foram:\n",
      "1 - Campo Grande com 124 chamados.\n",
      "2 - Tijuca com 96 chamados.\n",
      "3 - Barra da Tijuca com 60 chamados.\n"
     ]
    }
   ],
   "source": [
    "df_base_bairros = df_base_1.merge(df_bairros, on='id_bairro', how='left')\n",
    "\n",
    "chamados_por_bairros = operacao_agrupada_chamados(df_base_bairros, ['nome_bairro'])\n",
    "\n",
    "top_n = 3\n",
    "\n",
    "print(f'O top {top_n} bairros com maior quantidade de chamados abertos no dia 01/04/2023 foram:')\n",
    "for i in range(top_n):\n",
    "    print(f'{i+1} - {chamados_por_bairros.iloc[i,0]} com {chamados_por_bairros.iloc[i,1]} chamados.')"
   ]
  },
  {
   "cell_type": "markdown",
   "metadata": {},
   "source": [
    "### 4. Qual o nome da subprefeitura com mais chamados abertos nesse dia?"
   ]
  },
  {
   "cell_type": "code",
   "execution_count": 8,
   "metadata": {},
   "outputs": [
    {
     "name": "stdout",
     "output_type": "stream",
     "text": [
      "A subprefeitura com maior quantidade de chamados abertos no dia 01/04/2023 foi a Zona Norte com 534 chamados.\n"
     ]
    }
   ],
   "source": [
    "df_base_bairros = df_base_1.merge(df_bairros, on='id_bairro', how='left')\n",
    "\n",
    "chamados_por_subprefeitura = operacao_agrupada_chamados(df_base_bairros, ['subprefeitura'])\n",
    "\n",
    "print(f'A subprefeitura com maior quantidade de chamados abertos no dia 01/04/2023 foi a {chamados_por_subprefeitura.iloc[0,0]} com {chamados_por_subprefeitura.iloc[0,1]} chamados.')"
   ]
  },
  {
   "cell_type": "markdown",
   "metadata": {},
   "source": [
    "### 5. Existe algum chamado aberto nesse dia que não foi associado a um bairro ou subprefeitura na tabela de bairros? Se sim, por que isso acontece? "
   ]
  },
  {
   "cell_type": "code",
   "execution_count": 9,
   "metadata": {},
   "outputs": [
    {
     "data": {
      "application/vnd.microsoft.datawrangler.viewer.v0+json": {
       "columns": [
        {
         "name": "index",
         "rawType": "int64",
         "type": "integer"
        },
        {
         "name": "tipo",
         "rawType": "object",
         "type": "string"
        },
        {
         "name": "total_chamados",
         "rawType": "Int64",
         "type": "integer"
        }
       ],
       "conversionMethod": "pd.DataFrame",
       "ref": "d9d1e11b-2acc-43d5-a4fe-4b369693091a",
       "rows": [
        [
         "33",
         "Ônibus",
         "50"
        ],
        [
         "1",
         "Atendimento ao cidadão",
         "18"
        ],
        [
         "4",
         "Clínicas da Família (CF)",
         "13"
        ],
        [
         "30",
         "Sistema Nacional de Regulação (SISREG)",
         "6"
        ],
        [
         "21",
         "Ouvidoria SMTR",
         "5"
        ],
        [
         "14",
         "Iluminação Pública",
         "3"
        ],
        [
         "13",
         "Hospitais (HM)",
         "3"
        ],
        [
         "8",
         "Diversos - Comlurb",
         "3"
        ],
        [
         "22",
         "Postos de Saúde (PS)",
         "2"
        ],
        [
         "6",
         "Conservação de vias",
         "2"
        ]
       ],
       "shape": {
        "columns": 2,
        "rows": 10
       }
      },
      "text/html": [
       "<div>\n",
       "<style scoped>\n",
       "    .dataframe tbody tr th:only-of-type {\n",
       "        vertical-align: middle;\n",
       "    }\n",
       "\n",
       "    .dataframe tbody tr th {\n",
       "        vertical-align: top;\n",
       "    }\n",
       "\n",
       "    .dataframe thead th {\n",
       "        text-align: right;\n",
       "    }\n",
       "</style>\n",
       "<table border=\"1\" class=\"dataframe\">\n",
       "  <thead>\n",
       "    <tr style=\"text-align: right;\">\n",
       "      <th></th>\n",
       "      <th>tipo</th>\n",
       "      <th>total_chamados</th>\n",
       "    </tr>\n",
       "  </thead>\n",
       "  <tbody>\n",
       "    <tr>\n",
       "      <th>33</th>\n",
       "      <td>Ônibus</td>\n",
       "      <td>50</td>\n",
       "    </tr>\n",
       "    <tr>\n",
       "      <th>1</th>\n",
       "      <td>Atendimento ao cidadão</td>\n",
       "      <td>18</td>\n",
       "    </tr>\n",
       "    <tr>\n",
       "      <th>4</th>\n",
       "      <td>Clínicas da Família (CF)</td>\n",
       "      <td>13</td>\n",
       "    </tr>\n",
       "    <tr>\n",
       "      <th>30</th>\n",
       "      <td>Sistema Nacional de Regulação (SISREG)</td>\n",
       "      <td>6</td>\n",
       "    </tr>\n",
       "    <tr>\n",
       "      <th>21</th>\n",
       "      <td>Ouvidoria SMTR</td>\n",
       "      <td>5</td>\n",
       "    </tr>\n",
       "    <tr>\n",
       "      <th>14</th>\n",
       "      <td>Iluminação Pública</td>\n",
       "      <td>3</td>\n",
       "    </tr>\n",
       "    <tr>\n",
       "      <th>13</th>\n",
       "      <td>Hospitais (HM)</td>\n",
       "      <td>3</td>\n",
       "    </tr>\n",
       "    <tr>\n",
       "      <th>8</th>\n",
       "      <td>Diversos - Comlurb</td>\n",
       "      <td>3</td>\n",
       "    </tr>\n",
       "    <tr>\n",
       "      <th>22</th>\n",
       "      <td>Postos de Saúde (PS)</td>\n",
       "      <td>2</td>\n",
       "    </tr>\n",
       "    <tr>\n",
       "      <th>6</th>\n",
       "      <td>Conservação de vias</td>\n",
       "      <td>2</td>\n",
       "    </tr>\n",
       "  </tbody>\n",
       "</table>\n",
       "</div>"
      ],
      "text/plain": [
       "                                      tipo  total_chamados\n",
       "33                                  Ônibus              50\n",
       "1                   Atendimento ao cidadão              18\n",
       "4                 Clínicas da Família (CF)              13\n",
       "30  Sistema Nacional de Regulação (SISREG)               6\n",
       "21                          Ouvidoria SMTR               5\n",
       "14                      Iluminação Pública               3\n",
       "13                          Hospitais (HM)               3\n",
       "8                       Diversos - Comlurb               3\n",
       "22                    Postos de Saúde (PS)               2\n",
       "6                      Conservação de vias               2"
      ]
     },
     "execution_count": 9,
     "metadata": {},
     "output_type": "execute_result"
    }
   ],
   "source": [
    "df_bairro_nulo = df_base_1.loc[df_base_1['id_bairro'].isnull()]\n",
    "df_bairro_nulo_por_tipo = operacao_agrupada_chamados(df_bairro_nulo,\n",
    "                                                 ['tipo'])\n",
    "\n",
    "df_bairro_nulo_por_tipo.head(10)"
   ]
  },
  {
   "cell_type": "markdown",
   "metadata": {},
   "source": [
    "R: Sim, existiram chamados que não foram associados à nenhum id_bairro e, portanto, à nenhuma subprefeitura. Avaliando os principais tipos de chamados que possuem esta característica, é possível verificar que essas questões não dependem do espaço geográfico do cidadão que as origina. Por exemplo, chamados em relação aos ônibus não necessariamente serão questões de um só bairro, visto que existem ônibus (a grande maioria) cujo trajeto perpassa múltiplos bairros. Atendimento ao cidadão é outro caso, visto que dúvidas, sugestões, aviso de erros ou problemas com serviços digitais da prefeitura podem não ser ligados ao local em que o cidadão está fazendo o chamado. Ou seja, a maior parte dessas questões não são dependentes diretamente da localização."
   ]
  },
  {
   "cell_type": "markdown",
   "metadata": {},
   "source": [
    "## Respostas às perguntas 6-10"
   ]
  },
  {
   "cell_type": "code",
   "execution_count": 10,
   "metadata": {},
   "outputs": [
    {
     "name": "stdout",
     "output_type": "stream",
     "text": [
      "Downloading: 100%|\u001b[32m██████████\u001b[0m|\n",
      "Downloading: 100%|\u001b[32m██████████\u001b[0m|\n"
     ]
    }
   ],
   "source": [
    "# Preparando os data frames básicos para as questões 6-10\n",
    "\n",
    "sql_22_24 =\"\"\"\n",
    "SELECT COUNT(id_chamado) AS total_chamados,\n",
    "    DATE(data_inicio) AS data_abertura,\n",
    "    id_subtipo,\n",
    "    subtipo\n",
    "FROM `datario.adm_central_atendimento_1746.chamado`\n",
    "WHERE DATE(data_inicio) BETWEEN '2022-01-01' AND '2024-12-31'\n",
    "GROUP BY data_abertura, id_subtipo, subtipo\n",
    "\"\"\"\n",
    "\n",
    "sql_eventos = \"\"\"\n",
    "SELECT *\n",
    "FROM `datario.turismo_fluxo_visitantes.rede_hoteleira_ocupacao_eventos`\n",
    "\"\"\"\n",
    "\n",
    "df_22_24 = bd.read_sql(sql_22_24, billing_project_id=bill_id)\n",
    "df_eventos = bd.read_sql(sql_eventos, billing_project_id=bill_id)"
   ]
  },
  {
   "cell_type": "code",
   "execution_count": 11,
   "metadata": {},
   "outputs": [
    {
     "data": {
      "application/vnd.microsoft.datawrangler.viewer.v0+json": {
       "columns": [
        {
         "name": "index",
         "rawType": "int64",
         "type": "integer"
        },
        {
         "name": "evento",
         "rawType": "object",
         "type": "string"
        },
        {
         "name": "data_inicial",
         "rawType": "datetime64[ns]",
         "type": "datetime"
        },
        {
         "name": "data_final",
         "rawType": "datetime64[ns]",
         "type": "datetime"
        },
        {
         "name": "data_evento",
         "rawType": "datetime64[ns]",
         "type": "datetime"
        }
       ],
       "conversionMethod": "pd.DataFrame",
       "ref": "4461d9dc-c13b-45e6-a68a-37d9a9664b95",
       "rows": [
        [
         "0",
         "Carnaval",
         "2024-02-10 00:00:00",
         "2024-02-14 00:00:00",
         "2024-02-10 00:00:00"
        ],
        [
         "1",
         "Carnaval",
         "2024-02-10 00:00:00",
         "2024-02-14 00:00:00",
         "2024-02-11 00:00:00"
        ],
        [
         "2",
         "Carnaval",
         "2024-02-10 00:00:00",
         "2024-02-14 00:00:00",
         "2024-02-12 00:00:00"
        ],
        [
         "3",
         "Carnaval",
         "2024-02-10 00:00:00",
         "2024-02-14 00:00:00",
         "2024-02-13 00:00:00"
        ],
        [
         "4",
         "Carnaval",
         "2024-02-10 00:00:00",
         "2024-02-14 00:00:00",
         "2024-02-14 00:00:00"
        ],
        [
         "5",
         "Carnaval",
         "2023-02-18 00:00:00",
         "2023-02-21 00:00:00",
         "2023-02-18 00:00:00"
        ],
        [
         "6",
         "Carnaval",
         "2023-02-18 00:00:00",
         "2023-02-21 00:00:00",
         "2023-02-19 00:00:00"
        ],
        [
         "7",
         "Carnaval",
         "2023-02-18 00:00:00",
         "2023-02-21 00:00:00",
         "2023-02-20 00:00:00"
        ],
        [
         "8",
         "Carnaval",
         "2023-02-18 00:00:00",
         "2023-02-21 00:00:00",
         "2023-02-21 00:00:00"
        ],
        [
         "9",
         "Rock in Rio",
         "2022-09-08 00:00:00",
         "2022-09-11 00:00:00",
         "2022-09-08 00:00:00"
        ],
        [
         "10",
         "Rock in Rio",
         "2022-09-08 00:00:00",
         "2022-09-11 00:00:00",
         "2022-09-09 00:00:00"
        ],
        [
         "11",
         "Rock in Rio",
         "2022-09-08 00:00:00",
         "2022-09-11 00:00:00",
         "2022-09-10 00:00:00"
        ],
        [
         "12",
         "Rock in Rio",
         "2022-09-08 00:00:00",
         "2022-09-11 00:00:00",
         "2022-09-11 00:00:00"
        ],
        [
         "13",
         "Rock in Rio",
         "2022-09-02 00:00:00",
         "2022-09-04 00:00:00",
         "2022-09-02 00:00:00"
        ],
        [
         "14",
         "Rock in Rio",
         "2022-09-02 00:00:00",
         "2022-09-04 00:00:00",
         "2022-09-03 00:00:00"
        ],
        [
         "15",
         "Rock in Rio",
         "2022-09-02 00:00:00",
         "2022-09-04 00:00:00",
         "2022-09-04 00:00:00"
        ],
        [
         "16",
         "Réveillon",
         "2022-12-30 00:00:00",
         "2023-01-01 00:00:00",
         "2022-12-30 00:00:00"
        ],
        [
         "17",
         "Réveillon",
         "2022-12-30 00:00:00",
         "2023-01-01 00:00:00",
         "2022-12-31 00:00:00"
        ],
        [
         "18",
         "Réveillon",
         "2022-12-30 00:00:00",
         "2023-01-01 00:00:00",
         "2023-01-01 00:00:00"
        ],
        [
         "19",
         "Réveillon",
         "2023-12-30 00:00:00",
         "2024-01-01 00:00:00",
         "2023-12-30 00:00:00"
        ],
        [
         "20",
         "Réveillon",
         "2023-12-30 00:00:00",
         "2024-01-01 00:00:00",
         "2023-12-31 00:00:00"
        ],
        [
         "21",
         "Réveillon",
         "2023-12-30 00:00:00",
         "2024-01-01 00:00:00",
         "2024-01-01 00:00:00"
        ]
       ],
       "shape": {
        "columns": 4,
        "rows": 22
       }
      },
      "text/html": [
       "<div>\n",
       "<style scoped>\n",
       "    .dataframe tbody tr th:only-of-type {\n",
       "        vertical-align: middle;\n",
       "    }\n",
       "\n",
       "    .dataframe tbody tr th {\n",
       "        vertical-align: top;\n",
       "    }\n",
       "\n",
       "    .dataframe thead th {\n",
       "        text-align: right;\n",
       "    }\n",
       "</style>\n",
       "<table border=\"1\" class=\"dataframe\">\n",
       "  <thead>\n",
       "    <tr style=\"text-align: right;\">\n",
       "      <th></th>\n",
       "      <th>evento</th>\n",
       "      <th>data_inicial</th>\n",
       "      <th>data_final</th>\n",
       "      <th>data_evento</th>\n",
       "    </tr>\n",
       "  </thead>\n",
       "  <tbody>\n",
       "    <tr>\n",
       "      <th>0</th>\n",
       "      <td>Carnaval</td>\n",
       "      <td>2024-02-10</td>\n",
       "      <td>2024-02-14</td>\n",
       "      <td>2024-02-10</td>\n",
       "    </tr>\n",
       "    <tr>\n",
       "      <th>1</th>\n",
       "      <td>Carnaval</td>\n",
       "      <td>2024-02-10</td>\n",
       "      <td>2024-02-14</td>\n",
       "      <td>2024-02-11</td>\n",
       "    </tr>\n",
       "    <tr>\n",
       "      <th>2</th>\n",
       "      <td>Carnaval</td>\n",
       "      <td>2024-02-10</td>\n",
       "      <td>2024-02-14</td>\n",
       "      <td>2024-02-12</td>\n",
       "    </tr>\n",
       "    <tr>\n",
       "      <th>3</th>\n",
       "      <td>Carnaval</td>\n",
       "      <td>2024-02-10</td>\n",
       "      <td>2024-02-14</td>\n",
       "      <td>2024-02-13</td>\n",
       "    </tr>\n",
       "    <tr>\n",
       "      <th>4</th>\n",
       "      <td>Carnaval</td>\n",
       "      <td>2024-02-10</td>\n",
       "      <td>2024-02-14</td>\n",
       "      <td>2024-02-14</td>\n",
       "    </tr>\n",
       "    <tr>\n",
       "      <th>5</th>\n",
       "      <td>Carnaval</td>\n",
       "      <td>2023-02-18</td>\n",
       "      <td>2023-02-21</td>\n",
       "      <td>2023-02-18</td>\n",
       "    </tr>\n",
       "    <tr>\n",
       "      <th>6</th>\n",
       "      <td>Carnaval</td>\n",
       "      <td>2023-02-18</td>\n",
       "      <td>2023-02-21</td>\n",
       "      <td>2023-02-19</td>\n",
       "    </tr>\n",
       "    <tr>\n",
       "      <th>7</th>\n",
       "      <td>Carnaval</td>\n",
       "      <td>2023-02-18</td>\n",
       "      <td>2023-02-21</td>\n",
       "      <td>2023-02-20</td>\n",
       "    </tr>\n",
       "    <tr>\n",
       "      <th>8</th>\n",
       "      <td>Carnaval</td>\n",
       "      <td>2023-02-18</td>\n",
       "      <td>2023-02-21</td>\n",
       "      <td>2023-02-21</td>\n",
       "    </tr>\n",
       "    <tr>\n",
       "      <th>9</th>\n",
       "      <td>Rock in Rio</td>\n",
       "      <td>2022-09-08</td>\n",
       "      <td>2022-09-11</td>\n",
       "      <td>2022-09-08</td>\n",
       "    </tr>\n",
       "    <tr>\n",
       "      <th>10</th>\n",
       "      <td>Rock in Rio</td>\n",
       "      <td>2022-09-08</td>\n",
       "      <td>2022-09-11</td>\n",
       "      <td>2022-09-09</td>\n",
       "    </tr>\n",
       "    <tr>\n",
       "      <th>11</th>\n",
       "      <td>Rock in Rio</td>\n",
       "      <td>2022-09-08</td>\n",
       "      <td>2022-09-11</td>\n",
       "      <td>2022-09-10</td>\n",
       "    </tr>\n",
       "    <tr>\n",
       "      <th>12</th>\n",
       "      <td>Rock in Rio</td>\n",
       "      <td>2022-09-08</td>\n",
       "      <td>2022-09-11</td>\n",
       "      <td>2022-09-11</td>\n",
       "    </tr>\n",
       "    <tr>\n",
       "      <th>13</th>\n",
       "      <td>Rock in Rio</td>\n",
       "      <td>2022-09-02</td>\n",
       "      <td>2022-09-04</td>\n",
       "      <td>2022-09-02</td>\n",
       "    </tr>\n",
       "    <tr>\n",
       "      <th>14</th>\n",
       "      <td>Rock in Rio</td>\n",
       "      <td>2022-09-02</td>\n",
       "      <td>2022-09-04</td>\n",
       "      <td>2022-09-03</td>\n",
       "    </tr>\n",
       "    <tr>\n",
       "      <th>15</th>\n",
       "      <td>Rock in Rio</td>\n",
       "      <td>2022-09-02</td>\n",
       "      <td>2022-09-04</td>\n",
       "      <td>2022-09-04</td>\n",
       "    </tr>\n",
       "    <tr>\n",
       "      <th>16</th>\n",
       "      <td>Réveillon</td>\n",
       "      <td>2022-12-30</td>\n",
       "      <td>2023-01-01</td>\n",
       "      <td>2022-12-30</td>\n",
       "    </tr>\n",
       "    <tr>\n",
       "      <th>17</th>\n",
       "      <td>Réveillon</td>\n",
       "      <td>2022-12-30</td>\n",
       "      <td>2023-01-01</td>\n",
       "      <td>2022-12-31</td>\n",
       "    </tr>\n",
       "    <tr>\n",
       "      <th>18</th>\n",
       "      <td>Réveillon</td>\n",
       "      <td>2022-12-30</td>\n",
       "      <td>2023-01-01</td>\n",
       "      <td>2023-01-01</td>\n",
       "    </tr>\n",
       "    <tr>\n",
       "      <th>19</th>\n",
       "      <td>Réveillon</td>\n",
       "      <td>2023-12-30</td>\n",
       "      <td>2024-01-01</td>\n",
       "      <td>2023-12-30</td>\n",
       "    </tr>\n",
       "    <tr>\n",
       "      <th>20</th>\n",
       "      <td>Réveillon</td>\n",
       "      <td>2023-12-30</td>\n",
       "      <td>2024-01-01</td>\n",
       "      <td>2023-12-31</td>\n",
       "    </tr>\n",
       "    <tr>\n",
       "      <th>21</th>\n",
       "      <td>Réveillon</td>\n",
       "      <td>2023-12-30</td>\n",
       "      <td>2024-01-01</td>\n",
       "      <td>2024-01-01</td>\n",
       "    </tr>\n",
       "  </tbody>\n",
       "</table>\n",
       "</div>"
      ],
      "text/plain": [
       "         evento data_inicial data_final data_evento\n",
       "0      Carnaval   2024-02-10 2024-02-14  2024-02-10\n",
       "1      Carnaval   2024-02-10 2024-02-14  2024-02-11\n",
       "2      Carnaval   2024-02-10 2024-02-14  2024-02-12\n",
       "3      Carnaval   2024-02-10 2024-02-14  2024-02-13\n",
       "4      Carnaval   2024-02-10 2024-02-14  2024-02-14\n",
       "5      Carnaval   2023-02-18 2023-02-21  2023-02-18\n",
       "6      Carnaval   2023-02-18 2023-02-21  2023-02-19\n",
       "7      Carnaval   2023-02-18 2023-02-21  2023-02-20\n",
       "8      Carnaval   2023-02-18 2023-02-21  2023-02-21\n",
       "9   Rock in Rio   2022-09-08 2022-09-11  2022-09-08\n",
       "10  Rock in Rio   2022-09-08 2022-09-11  2022-09-09\n",
       "11  Rock in Rio   2022-09-08 2022-09-11  2022-09-10\n",
       "12  Rock in Rio   2022-09-08 2022-09-11  2022-09-11\n",
       "13  Rock in Rio   2022-09-02 2022-09-04  2022-09-02\n",
       "14  Rock in Rio   2022-09-02 2022-09-04  2022-09-03\n",
       "15  Rock in Rio   2022-09-02 2022-09-04  2022-09-04\n",
       "16    Réveillon   2022-12-30 2023-01-01  2022-12-30\n",
       "17    Réveillon   2022-12-30 2023-01-01  2022-12-31\n",
       "18    Réveillon   2022-12-30 2023-01-01  2023-01-01\n",
       "19    Réveillon   2023-12-30 2024-01-01  2023-12-30\n",
       "20    Réveillon   2023-12-30 2024-01-01  2023-12-31\n",
       "21    Réveillon   2023-12-30 2024-01-01  2024-01-01"
      ]
     },
     "execution_count": 11,
     "metadata": {},
     "output_type": "execute_result"
    }
   ],
   "source": [
    "# Precisamos limpar a base de dados de eventos para as próximas questões\n",
    "df_eventos_clean = (\n",
    "    # Filtrando apenas eventos com data_inicial e data_final válidas e selecionando as colunas de interesse\n",
    "    df_eventos.loc[\n",
    "        df_eventos['data_inicial'].notnull() & df_eventos['data_final'].notnull(),\n",
    "        ['evento', 'data_inicial', 'data_final']\n",
    "    ]\n",
    "    .assign(\n",
    "        # Convertendo as datas ao formato datetime\n",
    "        data_inicial =  lambda x: pd.to_datetime(x['data_inicial']),\n",
    "        data_final   =    lambda x: pd.to_datetime(x['data_final']),\n",
    "        # Expandindo as datas dos eventos\n",
    "        data_evento  =   lambda x: x.apply(\n",
    "            lambda y: pd.date_range(y['data_inicial'], y['data_final']), axis=1\n",
    "            )\n",
    "        )\n",
    "    .explode('data_evento')\n",
    "    .reset_index(drop=True)\n",
    ")\n",
    "df_eventos_clean"
   ]
  },
  {
   "cell_type": "code",
   "execution_count": 12,
   "metadata": {},
   "outputs": [
    {
     "name": "stdout",
     "output_type": "stream",
     "text": [
      "Downloading: 100%|\u001b[32m██████████\u001b[0m|\n"
     ]
    }
   ],
   "source": [
    "# Precisamos, agora, usar o read_sql do bd para pegar os chamados abertos nos dias de evento\n",
    "lista_datas = df_eventos_clean['data_evento'].dt.date.apply(lambda x: x.strftime('%Y-%m-%d')).to_list()\n",
    "\n",
    "# String com o conjunto de datas do df_eventos_clean\n",
    "str_datas = '(' + ', '.join(f\"'{data}'\" for data in lista_datas) + ')'\n",
    "\n",
    "query_evento_chamados = f\"\"\"\n",
    "SELECT COUNT(id_chamado) AS total_chamados,\n",
    "    DATE(data_inicio) AS data_abertura,\n",
    "    id_subtipo,\n",
    "    subtipo\n",
    "FROM `datario.adm_central_atendimento_1746.chamado`\n",
    "WHERE DATE(data_inicio) IN {str_datas}\n",
    "GROUP BY data_abertura, id_subtipo, subtipo \n",
    "\"\"\"\n",
    "\n",
    "# novo df com os chamados dos eventos\n",
    "df_eventos_chamados = bd.read_sql(query_evento_chamados, billing_project_id=bill_id)\n",
    "df_eventos_chamados = (\n",
    "    df_eventos_chamados.assign(\n",
    "        data_abertura = lambda x: pd.to_datetime(x['data_abertura'])\n",
    "    ).merge(\n",
    "        df_eventos_clean,\n",
    "        left_on='data_abertura',\n",
    "        right_on='data_evento',\n",
    "        how='left'\n",
    "    )\n",
    ")"
   ]
  },
  {
   "cell_type": "markdown",
   "metadata": {},
   "source": [
    "### 6. Quantos chamados com o subtipo \"Perturbação do sossego\" foram abertos desde 01/01/2022 até 31/12/2023 (incluindo extremidades)?"
   ]
  },
  {
   "cell_type": "code",
   "execution_count": 13,
   "metadata": {},
   "outputs": [
    {
     "name": "stdout",
     "output_type": "stream",
     "text": [
      "Considerando o id 5071 referente ao subtipo, foram encontrados mais de um, a saber:\n",
      "Fiscalização de perturbação do sossego com 56775 chamados.\n",
      "Perturbação do sossego com 10 chamados.\n",
      "\n",
      "A soma dos chamados é de 56785 chamados.\n"
     ]
    }
   ],
   "source": [
    "# filtrando os subtipos que contém 'sossego'\n",
    "df_22_24_sossego = df_22_24.loc[df_22_24['id_subtipo'] == '5071']\n",
    "\n",
    "subtipo_perturbacao_soma = operacao_agrupada_chamados(df_22_24_sossego, ['subtipo'])\n",
    "\n",
    "print('Considerando o id 5071 referente ao subtipo, foram encontrados mais de um, a saber:')\n",
    "for i in range(subtipo_perturbacao_soma.shape[0]):\n",
    "    print(f'{subtipo_perturbacao_soma.iloc[i,0]} com {subtipo_perturbacao_soma.iloc[i,1]} chamados.')\n",
    "print(f'\\nA soma dos chamados é de {subtipo_perturbacao_soma[\"total_chamados\"].sum()} chamados.')"
   ]
  },
  {
   "cell_type": "markdown",
   "metadata": {},
   "source": [
    "### 7. Selecione os chamados com esse subtipo que foram abertos durante os eventos contidos na tabela de eventos (Reveillon, Carnaval e Rock in Rio)."
   ]
  },
  {
   "cell_type": "code",
   "execution_count": 14,
   "metadata": {},
   "outputs": [
    {
     "name": "stdout",
     "output_type": "stream",
     "text": [
      "      total_chamados data_abertura id_subtipo  \\\n",
      "142               77    2023-02-18       5071   \n",
      "353               38    2023-02-20       5071   \n",
      "653              164    2022-09-04       5071   \n",
      "758               91    2023-02-19       5071   \n",
      "949               37    2022-12-31       5071   \n",
      "1259             142    2022-09-09       5071   \n",
      "1640              91    2022-09-08       5071   \n",
      "1908              51    2022-12-30       5071   \n",
      "2248             106    2022-09-02       5071   \n",
      "2346              46    2023-02-21       5071   \n",
      "2854             180    2022-09-11       5071   \n",
      "2859             126    2022-09-03       5071   \n",
      "2955              59    2023-01-01       5071   \n",
      "3215             137    2022-09-10       5071   \n",
      "\n",
      "                                     subtipo       evento data_inicial  \\\n",
      "142   Fiscalização de perturbação do sossego     Carnaval   2023-02-18   \n",
      "353   Fiscalização de perturbação do sossego     Carnaval   2023-02-18   \n",
      "653   Fiscalização de perturbação do sossego  Rock in Rio   2022-09-02   \n",
      "758   Fiscalização de perturbação do sossego     Carnaval   2023-02-18   \n",
      "949   Fiscalização de perturbação do sossego    Réveillon   2022-12-30   \n",
      "1259  Fiscalização de perturbação do sossego  Rock in Rio   2022-09-08   \n",
      "1640  Fiscalização de perturbação do sossego  Rock in Rio   2022-09-08   \n",
      "1908  Fiscalização de perturbação do sossego    Réveillon   2022-12-30   \n",
      "2248  Fiscalização de perturbação do sossego  Rock in Rio   2022-09-02   \n",
      "2346  Fiscalização de perturbação do sossego     Carnaval   2023-02-18   \n",
      "2854  Fiscalização de perturbação do sossego  Rock in Rio   2022-09-08   \n",
      "2859  Fiscalização de perturbação do sossego  Rock in Rio   2022-09-02   \n",
      "2955  Fiscalização de perturbação do sossego    Réveillon   2022-12-30   \n",
      "3215  Fiscalização de perturbação do sossego  Rock in Rio   2022-09-08   \n",
      "\n",
      "     data_final data_evento  \n",
      "142  2023-02-21  2023-02-18  \n",
      "353  2023-02-21  2023-02-20  \n",
      "653  2022-09-04  2022-09-04  \n",
      "758  2023-02-21  2023-02-19  \n",
      "949  2023-01-01  2022-12-31  \n",
      "1259 2022-09-11  2022-09-09  \n",
      "1640 2022-09-11  2022-09-08  \n",
      "1908 2023-01-01  2022-12-30  \n",
      "2248 2022-09-04  2022-09-02  \n",
      "2346 2023-02-21  2023-02-21  \n",
      "2854 2022-09-11  2022-09-11  \n",
      "2859 2022-09-04  2022-09-03  \n",
      "2955 2023-01-01  2023-01-01  \n",
      "3215 2022-09-11  2022-09-10  \n"
     ]
    }
   ],
   "source": [
    "df_eventos_chamados = df_eventos_chamados.loc[df_eventos_chamados['id_subtipo'] == '5071']\n",
    "\n",
    "print(df_eventos_chamados)"
   ]
  },
  {
   "cell_type": "markdown",
   "metadata": {},
   "source": [
    "### 8. Quantos chamados desse subtipo foram abertos em cada evento ?"
   ]
  },
  {
   "cell_type": "code",
   "execution_count": 15,
   "metadata": {},
   "outputs": [
    {
     "name": "stdout",
     "output_type": "stream",
     "text": [
      "Número de chamados abertos com id de subtipo 5071: \n",
      "Rock in Rio com 946 chamados.\n",
      "Carnaval com 252 chamados.\n",
      "Réveillon com 147 chamados.\n"
     ]
    }
   ],
   "source": [
    "total_chamados_subtipo = operacao_agrupada_chamados(df_eventos_chamados, ['evento'])\n",
    "\n",
    "print(f'Número de chamados abertos com id de subtipo 5071: ')\n",
    "for i in range(total_chamados_subtipo.shape[0]):\n",
    "    print(f'{total_chamados_subtipo.iloc[i,0]} com {total_chamados_subtipo.iloc[i,1]} chamados.')"
   ]
  },
  {
   "cell_type": "markdown",
   "metadata": {},
   "source": [
    "### 9. Qual evento teve a maior média diária de chamados abertos desse subtipo ?"
   ]
  },
  {
   "cell_type": "code",
   "execution_count": 16,
   "metadata": {},
   "outputs": [
    {
     "name": "stdout",
     "output_type": "stream",
     "text": [
      "O evento com maior média de chamados abertos desses subtipos foi Rock in Rio com cerca de 135 chamados.\n"
     ]
    }
   ],
   "source": [
    "df_eventos_media = operacao_agrupada_chamados(df_eventos_chamados, ['evento'], 'mean')\n",
    "\n",
    "print(f'O evento com maior média de chamados abertos desses subtipos foi {df_eventos_media.iloc[0,0]} com cerca de {df_eventos_media.iloc[0,1]:.0f} chamados.')"
   ]
  },
  {
   "cell_type": "markdown",
   "metadata": {},
   "source": [
    "### 10. Compare as médias diárias de chamados abertos desse subtipo durante os eventos específicos (Reveillon, Carnaval e Rock in Rio) e a média diária de chamados abertos desse subtipo consideranto todo o período de 01/01/2022 até 31/12/2024."
   ]
  },
  {
   "cell_type": "code",
   "execution_count": 17,
   "metadata": {},
   "outputs": [
    {
     "name": "stdout",
     "output_type": "stream",
     "text": [
      "A média de chamados abertos desse subtipo entre 2022 e 2024 foi de 69 chamados.\n",
      "A média de chamados abertos desse subtipo durante os eventos foram:\n",
      "Rock in Rio com 135 chamados.\n",
      "Carnaval com 63 chamados.\n",
      "Réveillon com 49 chamados.\n"
     ]
    }
   ],
   "source": [
    "df_eventos_media = operacao_agrupada_chamados(df_eventos_chamados, ['evento'], 'mean')\n",
    "\n",
    "df_22_24_sossego = df_22_24.loc[df_22_24['id_subtipo'] == '5071']\n",
    "df_22_24_sossego = operacao_agrupada_chamados(df_22_24_sossego, ['data_abertura'])\n",
    "\n",
    "media_22_24 = df_22_24_sossego['total_chamados'].mean()\n",
    "\n",
    "print(f'A média de chamados abertos desse subtipo entre 2022 e 2024 foi de {media_22_24:.0f} chamados.')\n",
    "print(f'A média de chamados abertos desse subtipo durante os eventos foram:')\n",
    "for i in range(df_eventos_media.shape[0]):\n",
    "    print(f'{df_eventos_media.iloc[i,0]} com {df_eventos_media.iloc[i,1]:.0f} chamados.')"
   ]
  },
  {
   "cell_type": "markdown",
   "metadata": {},
   "source": [
    "R: Entre 2022 e 2024, os cariocas abriram cerca de 69 chamadas por dia em média, sendo maior que o número de chamadas médias do carnaval e do Réveillon. Por outro lado, o Rock in Rio superou o número de reclamações média diárias, sendo quase o dobro da média total do período de 2022-2024."
   ]
  }
 ],
 "metadata": {
  "kernelspec": {
   "display_name": "Python 3",
   "language": "python",
   "name": "python3"
  },
  "language_info": {
   "codemirror_mode": {
    "name": "ipython",
    "version": 3
   },
   "file_extension": ".py",
   "mimetype": "text/x-python",
   "name": "python",
   "nbconvert_exporter": "python",
   "pygments_lexer": "ipython3",
   "version": "3.12.9"
  }
 },
 "nbformat": 4,
 "nbformat_minor": 2
}
