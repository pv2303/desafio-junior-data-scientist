{
 "cells": [
  {
   "cell_type": "markdown",
   "metadata": {},
   "source": [
    "# Resposta às perguntas do arquivo \"perguntas_sql.md\"\n",
    "\n",
    "Este *python notebook* visa responder as questões 1 a 10 utilizando python, principalmente pandas. Considerando que a base principal tem mais de 10 milhões de linhas, farei duas *queries* usando o método `read_sql()` do pacote `basedosdados`."
   ]
  },
  {
   "cell_type": "code",
   "execution_count": null,
   "metadata": {},
   "outputs": [],
   "source": [
    "# Libs utilizadas\n",
    "import pandas as pd\n",
    "import numpy as np\n",
    "import basedosdados as bd\n",
    "\n",
    "# billing id para o basedosdados\n",
    "bill_id = \"teste-tecnico-pcrj\"\n",
    "\n",
    "# Funções que serão utilizadas ao longo do notebook\n",
    "\n",
    "def soma_agrupada_chamados(df: pd.DataFrame,\n",
    "                           colunas: list):\n",
    "    \"\"\"\n",
    "    Função para somar chamados agrupando por colunas especificadas. Utilizada no conjunto de respostas 1-5.\n",
    "    \n",
    "    Args:\n",
    "        df (pd.DataFrame): DataFrame com os dados.\n",
    "        colunas (list): Lista com as colunas que serão utilizadas para agrupar os dados.\n",
    "    \n",
    "    Returns:\n",
    "        pd.DataFrame: DataFrame com a soma dos chamados pelos grupos. A última coluna sempre será o total de chamados.\n",
    "    \"\"\"\n",
    "    df_agrupado = (\n",
    "        df.groupby(colunas)\n",
    "        .agg({'total_chamados': 'sum'})\n",
    "        .reset_index()\n",
    "        .sort_values('total_chamados', ascending=False))\n",
    "    \n",
    "    return df_agrupado"
   ]
  },
  {
   "cell_type": "markdown",
   "metadata": {},
   "source": [
    "## Respostas às perguntas 1-5"
   ]
  },
  {
   "cell_type": "code",
   "execution_count": null,
   "metadata": {},
   "outputs": [],
   "source": [
    "# preparando objetos para as questões 1-5\n",
    "\n",
    "sql_1 = \"\"\"\n",
    "SELECT \n",
    "  COUNT(id_chamado) AS total_chamados,\n",
    "  DATE(data_inicio) AS data_abertura,\n",
    "  tipo,\n",
    "  subtipo,\n",
    "  id_bairro\n",
    "FROM `datario.adm_central_atendimento_1746.chamado` \n",
    "WHERE DATE(data_inicio)= '2023-04-01'\n",
    "GROUP BY DATE(data_inicio), tipo, subtipo, id_bairro\n",
    "\"\"\"\n",
    "\n",
    "sql_2 = \"\"\"\n",
    "SELECT \n",
    "  id_bairro,\n",
    "  nome AS nome_bairro,\n",
    "  subprefeitura\n",
    "FROM `datario.dados_mestres.bairro`\n",
    "\"\"\"\n",
    "\n",
    "df_base_1 = bd.read_sql(sql_1, billing_project_id=bill_id)\n",
    "df_bairros = bd.read_sql(sql_2, billing_project_id=bill_id)"
   ]
  },
  {
   "cell_type": "markdown",
   "metadata": {},
   "source": [
    "### 1. Quantos chamados foram abertos no dia 01/04/2023?"
   ]
  },
  {
   "cell_type": "code",
   "execution_count": 7,
   "metadata": {},
   "outputs": [
    {
     "name": "stdout",
     "output_type": "stream",
     "text": [
      "R: O total de chamados abertos no dia 01/04/2023 é de 1903 chamados.\n"
     ]
    }
   ],
   "source": [
    "total_chamados_soma = df_base_1['total_chamados'].sum()\n",
    "\n",
    "print(f'R: O total de chamados abertos no dia 01/04/2023 é de {total_chamados_soma} chamados.')"
   ]
  },
  {
   "cell_type": "markdown",
   "metadata": {},
   "source": [
    "### 2. Qual é o tipo de chamado que teve mais chamados abertos no dia 01/04/2023?"
   ]
  },
  {
   "cell_type": "code",
   "execution_count": 13,
   "metadata": {},
   "outputs": [
    {
     "name": "stdout",
     "output_type": "stream",
     "text": [
      "R: O tipo de chamado com maior quantidade de chamados abertos no dia 01/04/2023 é Estacionamento irregular com 373 chamados.\n"
     ]
    }
   ],
   "source": [
    "chamados_por_dia = soma_agrupada_chamados(df_base_1, ['tipo'])\n",
    "\n",
    "print(f'R: O tipo de chamado com maior quantidade de chamados abertos no dia 01/04/2023 é {chamados_por_dia.iloc[0,0]} com {chamados_por_dia.iloc[0,1]} chamados.')"
   ]
  },
  {
   "cell_type": "markdown",
   "metadata": {},
   "source": [
    "### 3. Quais os nomes dos bairros que mais tiveram chamados abertos nesse dia?"
   ]
  },
  {
   "cell_type": "code",
   "execution_count": 47,
   "metadata": {},
   "outputs": [
    {
     "name": "stdout",
     "output_type": "stream",
     "text": [
      "O top 3 bairros com maior quantidade de chamados abertos no dia 01/04/2023 foram:\n",
      "1 - Campo Grande com 124 chamados.\n",
      "2 - Tijuca com 96 chamados.\n",
      "3 - Barra da Tijuca com 60 chamados.\n"
     ]
    }
   ],
   "source": [
    "df_base_bairros = df_base_1.merge(df_bairros, on='id_bairro', how='left')\n",
    "\n",
    "chamados_por_bairros = soma_agrupada_chamados(df_base_bairros, ['nome_bairro'])\n",
    "\n",
    "top_n = 3\n",
    "\n",
    "print(f'O top {top_n} bairros com maior quantidade de chamados abertos no dia 01/04/2023 foram:')\n",
    "for i in range(top_n):\n",
    "    print(f'{i+1} - {chamados_por_bairros.iloc[i,0]} com {chamados_por_bairros.iloc[i,1]} chamados.')"
   ]
  },
  {
   "cell_type": "markdown",
   "metadata": {},
   "source": [
    "### 4. Qual o nome da subprefeitura com mais chamados abertos nesse dia?"
   ]
  },
  {
   "cell_type": "code",
   "execution_count": null,
   "metadata": {},
   "outputs": [
    {
     "name": "stdout",
     "output_type": "stream",
     "text": [
      "A subprefeitura com maior quantidade de chamados abertos no dia 01/04/2023 foi a Zona Norte com 534 chamados.\n"
     ]
    }
   ],
   "source": [
    "df_base_bairros = df_base_1.merge(df_bairros, on='id_bairro', how='left')\n",
    "\n",
    "chamados_por_subprefeitura = soma_agrupada_chamados(df_base_bairros, ['subprefeitura'])\n",
    "\n",
    "print(f'A subprefeitura com maior quantidade de chamados abertos no dia 01/04/2023 foi a {chamados_por_subprefeitura.iloc[0,0]} com {chamados_por_subprefeitura.iloc[0,1]} chamados.')"
   ]
  },
  {
   "cell_type": "markdown",
   "metadata": {},
   "source": [
    "### 5. Existe algum chamado aberto nesse dia que não foi associado a um bairro ou subprefeitura na tabela de bairros? Se sim, por que isso acontece? "
   ]
  },
  {
   "cell_type": "code",
   "execution_count": 31,
   "metadata": {},
   "outputs": [
    {
     "data": {
      "application/vnd.microsoft.datawrangler.viewer.v0+json": {
       "columns": [
        {
         "name": "index",
         "rawType": "int64",
         "type": "integer"
        },
        {
         "name": "tipo",
         "rawType": "object",
         "type": "string"
        },
        {
         "name": "total_chamados",
         "rawType": "Int64",
         "type": "integer"
        }
       ],
       "conversionMethod": "pd.DataFrame",
       "ref": "c16bfaaa-30d2-4981-bdbf-003f6ef910ec",
       "rows": [
        [
         "33",
         "Ônibus",
         "50"
        ],
        [
         "1",
         "Atendimento ao cidadão",
         "18"
        ],
        [
         "4",
         "Clínicas da Família (CF)",
         "13"
        ],
        [
         "30",
         "Sistema Nacional de Regulação (SISREG)",
         "6"
        ],
        [
         "21",
         "Ouvidoria SMTR",
         "5"
        ],
        [
         "14",
         "Iluminação Pública",
         "3"
        ],
        [
         "13",
         "Hospitais (HM)",
         "3"
        ],
        [
         "8",
         "Diversos - Comlurb",
         "3"
        ],
        [
         "22",
         "Postos de Saúde (PS)",
         "2"
        ],
        [
         "6",
         "Conservação de vias",
         "2"
        ]
       ],
       "shape": {
        "columns": 2,
        "rows": 10
       }
      },
      "text/html": [
       "<div>\n",
       "<style scoped>\n",
       "    .dataframe tbody tr th:only-of-type {\n",
       "        vertical-align: middle;\n",
       "    }\n",
       "\n",
       "    .dataframe tbody tr th {\n",
       "        vertical-align: top;\n",
       "    }\n",
       "\n",
       "    .dataframe thead th {\n",
       "        text-align: right;\n",
       "    }\n",
       "</style>\n",
       "<table border=\"1\" class=\"dataframe\">\n",
       "  <thead>\n",
       "    <tr style=\"text-align: right;\">\n",
       "      <th></th>\n",
       "      <th>tipo</th>\n",
       "      <th>total_chamados</th>\n",
       "    </tr>\n",
       "  </thead>\n",
       "  <tbody>\n",
       "    <tr>\n",
       "      <th>33</th>\n",
       "      <td>Ônibus</td>\n",
       "      <td>50</td>\n",
       "    </tr>\n",
       "    <tr>\n",
       "      <th>1</th>\n",
       "      <td>Atendimento ao cidadão</td>\n",
       "      <td>18</td>\n",
       "    </tr>\n",
       "    <tr>\n",
       "      <th>4</th>\n",
       "      <td>Clínicas da Família (CF)</td>\n",
       "      <td>13</td>\n",
       "    </tr>\n",
       "    <tr>\n",
       "      <th>30</th>\n",
       "      <td>Sistema Nacional de Regulação (SISREG)</td>\n",
       "      <td>6</td>\n",
       "    </tr>\n",
       "    <tr>\n",
       "      <th>21</th>\n",
       "      <td>Ouvidoria SMTR</td>\n",
       "      <td>5</td>\n",
       "    </tr>\n",
       "    <tr>\n",
       "      <th>14</th>\n",
       "      <td>Iluminação Pública</td>\n",
       "      <td>3</td>\n",
       "    </tr>\n",
       "    <tr>\n",
       "      <th>13</th>\n",
       "      <td>Hospitais (HM)</td>\n",
       "      <td>3</td>\n",
       "    </tr>\n",
       "    <tr>\n",
       "      <th>8</th>\n",
       "      <td>Diversos - Comlurb</td>\n",
       "      <td>3</td>\n",
       "    </tr>\n",
       "    <tr>\n",
       "      <th>22</th>\n",
       "      <td>Postos de Saúde (PS)</td>\n",
       "      <td>2</td>\n",
       "    </tr>\n",
       "    <tr>\n",
       "      <th>6</th>\n",
       "      <td>Conservação de vias</td>\n",
       "      <td>2</td>\n",
       "    </tr>\n",
       "  </tbody>\n",
       "</table>\n",
       "</div>"
      ],
      "text/plain": [
       "                                      tipo  total_chamados\n",
       "33                                  Ônibus              50\n",
       "1                   Atendimento ao cidadão              18\n",
       "4                 Clínicas da Família (CF)              13\n",
       "30  Sistema Nacional de Regulação (SISREG)               6\n",
       "21                          Ouvidoria SMTR               5\n",
       "14                      Iluminação Pública               3\n",
       "13                          Hospitais (HM)               3\n",
       "8                       Diversos - Comlurb               3\n",
       "22                    Postos de Saúde (PS)               2\n",
       "6                      Conservação de vias               2"
      ]
     },
     "execution_count": 31,
     "metadata": {},
     "output_type": "execute_result"
    }
   ],
   "source": [
    "df_bairro_nulo = df_base_1.loc[df_base_1['id_bairro'].isnull()]\n",
    "df_bairro_nulo_por_tipo = soma_agrupada_chamados(df_bairro_nulo,\n",
    "                                                 ['tipo'])\n",
    "\n",
    "df_bairro_nulo_por_tipo.head(10)"
   ]
  },
  {
   "cell_type": "markdown",
   "metadata": {},
   "source": [
    "R: Sim, existiram chamados que não foram associados à nenhum id_bairro e, portanto, à nenhuma subprefeitura. Avaliando os principais tipos de chamados que possuem esta característica, é possível verificar que essas questões não dependem do espaço geográfico do cidadão que as origina. Por exemplo, chamados em relação aos ônibus não necessariamente serão questões de um só bairro, visto que existem ônibus (a grande maioria) cujo trajeto perpassa múltiplos bairros. Atendimento ao cidadão é outro caso, visto que dúvidas, sugestões, aviso de erros ou problemas com serviços digitais da prefeitura podem não ser ligados ao local em que o cidadão está fazendo o chamado. Ou seja, a maior parte dessas questões não são dependentes diretamente da localização."
   ]
  },
  {
   "cell_type": "markdown",
   "metadata": {},
   "source": [
    "## Respostas às perguntas 6-10"
   ]
  },
  {
   "cell_type": "code",
   "execution_count": 50,
   "metadata": {},
   "outputs": [
    {
     "name": "stdout",
     "output_type": "stream",
     "text": [
      "Downloading: 100%|\u001b[32m██████████\u001b[0m|\n",
      "Downloading: 100%|\u001b[32m██████████\u001b[0m|\n"
     ]
    }
   ],
   "source": [
    "# Preparando os data frames básicos para as questões 6-10\n",
    "\n",
    "sql_22_23 =\"\"\"\n",
    "SELECT COUNT(id_chamado) AS total_chamados,\n",
    "    DATE(data_inicio) AS data_abertura,\n",
    "    subtipo\n",
    "FROM `datario.adm_central_atendimento_1746.chamado`\n",
    "WHERE DATE(data_inicio) BETWEEN '2022-01-01' AND '2023-12-31'\n",
    "GROUP BY data_abertura, subtipo\n",
    "\"\"\"\n",
    "\n",
    "sql_eventos = \"\"\"\n",
    "SELECT\n",
    "    evento,\n",
    "    data_inicial,\n",
    "    data_final\n",
    "FROM `datario.turismo_fluxo_visitantes.rede_hoteleira_ocupacao_eventos`\n",
    "WHERE data_inicial IS NOT NULL\n",
    "\"\"\"\n",
    "\n",
    "df_22_23 = bd.read_sql(sql_22_23, billing_project_id=bill_id)\n",
    "df_eventos = bd.read_sql(sql_eventos, billing_project_id=bill_id)"
   ]
  },
  {
   "cell_type": "markdown",
   "metadata": {},
   "source": [
    "### 6. Quantos chamados com o subtipo \"Perturbação do sossego\" foram abertos desde 01/01/2022 até 31/12/2023 (incluindo extremidades)?"
   ]
  },
  {
   "cell_type": "code",
   "execution_count": null,
   "metadata": {},
   "outputs": [
    {
     "data": {
      "text/plain": [
       "subtipo\n",
       "Fiscalização de perturbação do sossego      50368\n",
       "Informações sobre Perturbação do Sossego    11590\n",
       "Name: total_chamados, dtype: Int64"
      ]
     },
     "execution_count": 55,
     "metadata": {},
     "output_type": "execute_result"
    }
   ],
   "source": [
    "subtipo_perturbacao_soma = (\n",
    "    df_22_23.loc[df_22_23['subtipo'].str.contains('sossego', case=False, na=False),\n",
    "                 'total_chamados'].sum()\n",
    ")\n",
    "\n",
    "subtipo_perturbacao_soma\n",
    "df_22_23.loc[df_22_23['subtipo'].str.contains('sossego', case=False, na=False)].groupby('subtipo')['total_chamados'].sum().reset_index()"
   ]
  }
 ],
 "metadata": {
  "kernelspec": {
   "display_name": "Python 3",
   "language": "python",
   "name": "python3"
  },
  "language_info": {
   "codemirror_mode": {
    "name": "ipython",
    "version": 3
   },
   "file_extension": ".py",
   "mimetype": "text/x-python",
   "name": "python",
   "nbconvert_exporter": "python",
   "pygments_lexer": "ipython3",
   "version": "3.12.9"
  }
 },
 "nbformat": 4,
 "nbformat_minor": 2
}
