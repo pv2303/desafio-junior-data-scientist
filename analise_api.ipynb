{
 "cells": [
  {
   "cell_type": "markdown",
   "metadata": {},
   "source": [
    "# Resposta às perguntas do arquivo \"perguntas_api.md\"\n",
    "\n",
    "**Tema: Integração com APIs - Feriados e Tempo**\n",
    "\n",
    "### APIs públicas a serem utilizadas:\n",
    "- [Public Holiday API](https://date.nager.at/Api)\n",
    "- [Open-Meteo Historical Weather API](https://open-meteo.com/)"
   ]
  },
  {
   "cell_type": "code",
   "execution_count": 222,
   "metadata": {},
   "outputs": [],
   "source": [
    "# Libs necessárias\n",
    "import requests\n",
    "import pandas as pd\n",
    "import seaborn as sns\n",
    "import matplotlib.pyplot as plt\n",
    "import numpy as np\n",
    "import locale\n",
    "\n",
    "# Configurar localidade para português do Brasil\n",
    "locale.setlocale(locale.LC_TIME, \"Portuguese_Brazil.1252\")\n",
    "\n",
    "# Função para pegar dados do tempo\n",
    "def pegar_dados_tempo(local: str, data_inicial: str, data_final: str, daily_vars):\n",
    "    \"\"\"\n",
    "    Retorna um objeto pd.DataFrame com os dados diários de tempo para um local entre duas datas estabelecidas. Os dados são coletados do Open-Meteo Historical Weather API. Para mais informações, acesse: <https://open-meteo.com/>\n",
    "    \n",
    "    Args:\n",
    "        local (str): Nome da cidade ou localidade (ex: 'Rio de Janeiro')\n",
    "        start_date (str): Data de início no formato 'YYYY-MM-DD'\n",
    "        end_date (str): Data de fim no formato 'YYYY-MM-DD'\n",
    "        daily_vars (str ou list): Variáveis desejadas (ex: 'temperature_2m_mean ou ['temperature_2m_mean', 'weather_code'])\n",
    "    \n",
    "    Retorna:\n",
    "        df (pd.DataFrame): um DataFrame com colunas de dados climáticos\n",
    "    \"\"\"\n",
    "    \n",
    "    # Verificar se é string para converter para lista\n",
    "    if isinstance(daily_vars, str):\n",
    "        daily_vars = [daily_vars]\n",
    "    \n",
    "    # API para fazer o geocoding\n",
    "    url_geocode = 'https://geocoding-api.open-meteo.com/v1/search'\n",
    "    params_geocode = {\n",
    "        'name': local,\n",
    "        'count': 1\n",
    "    }\n",
    "    resp_geocode = requests.get(url=url_geocode, params=params_geocode)\n",
    "    resp_geocode.raise_for_status()\n",
    "    dict_geocode = resp_geocode.json()['results'][0]\n",
    "    \n",
    "    # API dos dados de tempo\n",
    "    url_weather = \"https://archive-api.open-meteo.com/v1/archive\"\n",
    "    params_weather = {\n",
    "        'latitude': dict_geocode['latitude'],\n",
    "        'longitude': dict_geocode['longitude'],\n",
    "        'start_date': data_inicial,\n",
    "        'end_date': data_final,\n",
    "        'daily': daily_vars,\n",
    "        'timezone': 'America/Sao_Paulo'\n",
    "    }\n",
    "    \n",
    "    # Acessando os dados\n",
    "    resp_weather = requests.get(url=url_weather, params=params_weather)\n",
    "    resp_weather.raise_for_status()\n",
    "    dados = resp_weather.json()['daily']\n",
    "\n",
    "    # Convertendo para DataFrame\n",
    "    df = pd.DataFrame(dados)\n",
    "    df['time'] = pd.to_datetime(df['time'])\n",
    "    \n",
    "    return df\n",
    "\n",
    "def pegar_desc_wmo_code():\n",
    "    \"\"\"\n",
    "    Retorna um objeto pd.DataFrame contendo as descrições para dia e noite dos códigos weather_code do Open-Meteo Historical Weather API.\n",
    "    \n",
    "    Retorna:\n",
    "        df_wmo (pd.DataFrame): tabela com três colunas: codigo weather_code, descrição do código durante o dia e durante a noite.\n",
    "    \"\"\"\n",
    "    \n",
    "    url = 'https://gist.githubusercontent.com/stellasphere/9490c195ed2b53c707087c8c2db4ec0c/raw/descriptions.json'\n",
    "    \n",
    "    resp = requests.get(url)\n",
    "    resp.raise_for_status()\n",
    "    \n",
    "    # Converte para json\n",
    "    dict = resp.json()\n",
    "    \n",
    "    dict_final = [\n",
    "    {\n",
    "        'weather_code': int(code),\n",
    "        'desc_day': dict[code]['day']['description'],\n",
    "        'desc_night': dict[code]['night']['description']\n",
    "    }\n",
    "    for code in dict\n",
    "    ]\n",
    "       \n",
    "    df_wmo = pd.DataFrame(dict_final)\n",
    "    \n",
    "    return df_wmo\n",
    "\n",
    "def aplicar_nome_mes(df: pd.DataFrame, coluna_data: str):\n",
    "    \"\"\"\n",
    "    Retorna um df com uma nova coluna chamada 'nome_mes' que contém o nome do mês. A coluna é uma categoria, ou seja, seguirá a ordem dos meses em um ano.\n",
    "    \n",
    "    Args:\n",
    "        df (pd.DataFrame): um data frame que contenha uma coluna em formato datetime.\n",
    "        coluna_data (str): nome da coluna que contém as datas.\n",
    "        \n",
    "    Retorna:\n",
    "        df (pd.DataFrame): um novo data frame com uma coluna com o nome do mês.\n",
    "    \"\"\"\n",
    "    \n",
    "    df['nome_mes'] = df[coluna_data].dt.month_name(locale='Portuguese_Brazil.1252')\n",
    "    \n",
    "    ordem_meses = ['Janeiro', 'Fevereiro', 'Março', 'Abril', 'Maio', 'Junho',\n",
    "               'Julho', 'Agosto', 'Setembro', 'Outubro', 'Novembro', 'Dezembro']\n",
    "    \n",
    "    df['nome_mes'] = pd.Categorical(df['nome_mes'],\n",
    "                                    categories=ordem_meses,\n",
    "                                    ordered=True)\n",
    "    \n",
    "    return df\n",
    "\n",
    "def traduzir_wmo_code(df: pd.DataFrame, coluna_wmo: str, nome_desc: str = 'desc_wmo_pt'):\n",
    "    \"\"\"\n",
    "    Traduz os códigos WMO, da coluna `weather_code` para o português. Apenas os códigos que apareceram na base coletada df_tempo foram contemplados\n",
    "    \n",
    "    Args:\n",
    "        df (pd.DataFrame): data frame que possui uma coluna com os códigos wmo\n",
    "        coluna_wmo (str): nome da coluna que possui códigos wmo\n",
    "        nome_desc (str): nome da coluna que descreverá os códigos wmo. O padrão é 'desc_wmo_pt'\n",
    "        \n",
    "    retorna\n",
    "        df (pd.DataFrame): data frame com uma nova coluna com a descrição em português dos códigos WMO\n",
    "    \"\"\"\n",
    "    \n",
    "    dict_desc = {\n",
    "        0: 'Ensolarado',\n",
    "        1: 'Principalmente ensolarado',\n",
    "        2: 'Parcialmente nublado',\n",
    "        3: 'Nublado',\n",
    "        51: 'Garoa leve',\n",
    "        53: 'Garoa moderada',\n",
    "        55: 'Garoa forte',\n",
    "        61: 'Chuva leve',\n",
    "        63: 'Chuva moderada',\n",
    "        65: 'Chuva forte'\n",
    "    }\n",
    "    \n",
    "    df[nome_desc] = df[coluna_wmo].map(dict_desc)\n",
    "    \n",
    "    return df"
   ]
  },
  {
   "cell_type": "code",
   "execution_count": 223,
   "metadata": {},
   "outputs": [
    {
     "name": "stdout",
     "output_type": "stream",
     "text": [
      "         date                             localName   nome_mes\n",
      "0  2024-01-01            Confraternização Universal    Janeiro\n",
      "1  2024-02-12                              Carnaval  Fevereiro\n",
      "2  2024-02-13                              Carnaval  Fevereiro\n",
      "3  2024-03-29                     Sexta-feira Santa      Março\n",
      "4  2024-03-31                     Domingo de Páscoa      Março\n",
      "5  2024-04-21                     Dia de Tiradentes      Abril\n",
      "6  2024-05-01                    Dia do Trabalhador       Maio\n",
      "7  2024-05-30                        Corpus Christi       Maio\n",
      "8  2024-07-09  Revolução Constitucionalista de 1932      Julho\n",
      "9  2024-09-07                  Dia da Independência   Setembro\n",
      "10 2024-10-12               Nossa Senhora Aparecida    Outubro\n",
      "11 2024-11-02                        Dia de Finados   Novembro\n",
      "12 2024-11-15              Proclamação da República   Novembro\n",
      "13 2024-11-20              Dia da Consciência Negra   Novembro\n",
      "14 2024-12-25                                 Natal   Dezembro\n"
     ]
    }
   ],
   "source": [
    "# Dados de feriado\n",
    "\n",
    "# Parâmetros\n",
    "year = '2024'\n",
    "country = 'BR'\n",
    "\n",
    "# url\n",
    "feriado_api_url = f'https://date.nager.at/api/v3/publicholidays/{year}/{country}'\n",
    "\n",
    "# Requisição\n",
    "resp_feriado = requests.get(feriado_api_url)\n",
    "\n",
    "# Só converte se o status for 200\n",
    "if resp_feriado.status_code == 200:\n",
    "    feriado = resp_feriado.json()\n",
    "    df_feriado = pd.DataFrame(feriado)\n",
    "    \n",
    "    df_feriado = df_feriado.loc[:, ['date', 'localName']]\n",
    "    df_feriado['date'] = pd.to_datetime(df_feriado['date'])\n",
    "    df_feriado = aplicar_nome_mes(df_feriado, 'date')\n",
    "    print(df_feriado)\n",
    "else:\n",
    "    print(\"A requisição falhou.\")"
   ]
  },
  {
   "cell_type": "code",
   "execution_count": 224,
   "metadata": {},
   "outputs": [],
   "source": [
    "# Dados de tempo\n",
    "\n",
    "df_tempo = pegar_dados_tempo(local = 'Rio de Janeiro',\n",
    "                             data_inicial = '2024-01-01',\n",
    "                             data_final='2024-12-31',\n",
    "                             daily_vars=['temperature_2m_mean', 'weather_code']\n",
    "                             )\n",
    "\n",
    "# Criando a coluna mês\n",
    "df_tempo = aplicar_nome_mes(df_tempo, 'time')"
   ]
  },
  {
   "cell_type": "markdown",
   "metadata": {},
   "source": [
    "### 1. Quantos feriados há no Brasil em todo o ano de 2024?"
   ]
  },
  {
   "cell_type": "code",
   "execution_count": 225,
   "metadata": {},
   "outputs": [
    {
     "name": "stdout",
     "output_type": "stream",
     "text": [
      "Total de feriados no Brasil em 2024: 15\n"
     ]
    }
   ],
   "source": [
    "total_feriados = df_feriado['date'].count()\n",
    "\n",
    "print(f'Total de feriados no Brasil em 2024: {total_feriados}')"
   ]
  },
  {
   "cell_type": "markdown",
   "metadata": {},
   "source": [
    "### 2. Qual mês de 2024 tem o maior número de feriados?"
   ]
  },
  {
   "cell_type": "code",
   "execution_count": 226,
   "metadata": {},
   "outputs": [
    {
     "name": "stdout",
     "output_type": "stream",
     "text": [
      "O mês com o maior número de feriados com o Novembro com 3 feriados em 2024.\n"
     ]
    }
   ],
   "source": [
    "mes_mais_feriados = df_feriado['nome_mes'].value_counts().reset_index()\n",
    "\n",
    "print(f'O mês com o maior número de feriados com o {mes_mais_feriados.iloc[0, 0]} com {mes_mais_feriados.iloc[0, 1]} feriados em 2024.')"
   ]
  },
  {
   "cell_type": "markdown",
   "metadata": {},
   "source": [
    "### 3. Quantos feriados em 2024 caem em dias de semana (segunda a sexta-feira)?"
   ]
  },
  {
   "cell_type": "code",
   "execution_count": 227,
   "metadata": {},
   "outputs": [
    {
     "name": "stdout",
     "output_type": "stream",
     "text": [
      "O ano de 2024 teve 8 feriados que caíram em dias da semana.\n"
     ]
    }
   ],
   "source": [
    "feriados_dias_semana = df_feriado.loc[df_feriado['date'].dt.day_of_week < 4, 'date'].count()\n",
    "print(f'O ano de 2024 teve {feriados_dias_semana} feriados que caíram em dias da semana.')"
   ]
  },
  {
   "cell_type": "markdown",
   "metadata": {},
   "source": [
    "### 4. Qual foi a temperatura média em cada mês?"
   ]
  },
  {
   "cell_type": "markdown",
   "metadata": {},
   "source": [
    "A partir dos dados da Open-Meteo para o Rio de Janeiro, calculei a média mensal das temperaturas médias diárias.O gráfico abaixo mostra a variação ao longo dos meses. Por mais que sejam dados temporais, optei pelo gráfico de barras, visto que este é o padrão em climatologia para visualização de dados de temperatura.\n",
    "\n",
    "Critérios:\n",
    "- A média foi calculada a partir da coluna `temperature_2m_mean`;\n",
    "- Os nomes dos meses estão formatados em português;\n",
    "- Os dados foram agrupados por mês (ano + mês) para preservar a ordem temporal."
   ]
  },
  {
   "cell_type": "code",
   "execution_count": 228,
   "metadata": {},
   "outputs": [
    {
     "name": "stderr",
     "output_type": "stream",
     "text": [
      "C:\\Users\\Paulo Vitor\\AppData\\Local\\Temp\\ipykernel_30924\\1460264321.py:4: FutureWarning: The default of observed=False is deprecated and will be changed to True in a future version of pandas. Pass observed=False to retain current behavior or observed=True to adopt the future default and silence this warning.\n",
      "  .groupby('nome_mes')\n"
     ]
    },
    {
     "data": {
      "image/png": "[encoded data removed]",
      "text/plain": [
       "<Figure size 1000x600 with 1 Axes>"
      ]
     },
     "metadata": {},
     "output_type": "display_data"
    }
   ],
   "source": [
    "\n",
    "# Calculando as temperaturas médias dos meses de 2024\n",
    "temp_media_mes = (\n",
    "    df_tempo\n",
    "    .groupby('nome_mes')\n",
    "    .agg(media_mes = ('temperature_2m_mean', 'mean'))\n",
    "    .round(2)\n",
    "    .sort_values('nome_mes')\n",
    "    .reset_index()\n",
    ")\n",
    "\n",
    "# Define o estilo do gráfico\n",
    "sns.set_theme(style=\"whitegrid\")\n",
    "\n",
    "# Gráfico de barras\n",
    "plt.figure(figsize=(10, 6))\n",
    "ax = sns.barplot(\n",
    "    data=temp_media_mes,\n",
    "    x='nome_mes',\n",
    "    y='media_mes',\n",
    "    hue='media_mes',\n",
    "    palette='coolwarm',\n",
    "    legend=False\n",
    ")\n",
    "\n",
    "ax.set_title('Temperatura média mensal no Rio de Janeiro (2024)', fontsize=14)\n",
    "ax.set_xlabel('Mês', fontsize=12)\n",
    "ax.set_ylabel('Temperatura média (°C)', fontsize=12)\n",
    "plt.xticks(rotation=45)\n",
    "for i in ax.containers:\n",
    "    ax.bar_label(i, fmt='%.1f °C', fontsize=10, label_type='edge', padding=3)\n",
    "plt.tight_layout()\n",
    "plt.show()\n"
   ]
  },
  {
   "cell_type": "code",
   "execution_count": 229,
   "metadata": {},
   "outputs": [
    {
     "data": {
      "application/vnd.microsoft.datawrangler.viewer.v0+json": {
       "columns": [
        {
         "name": "index",
         "rawType": "int64",
         "type": "integer"
        },
        {
         "name": "nome_mes",
         "rawType": "category",
         "type": "unknown"
        },
        {
         "name": "media_mes",
         "rawType": "float64",
         "type": "float"
        }
       ],
       "conversionMethod": "pd.DataFrame",
       "ref": "bfb699ca-2ae0-4ee8-881c-137f0d147102",
       "rows": [
        [
         "0",
         "Janeiro",
         "26.7"
        ],
        [
         "1",
         "Fevereiro",
         "27.2"
        ],
        [
         "2",
         "Março",
         "26.42"
        ],
        [
         "3",
         "Abril",
         "25.17"
        ],
        [
         "4",
         "Maio",
         "24.99"
        ],
        [
         "5",
         "Junho",
         "22.64"
        ],
        [
         "6",
         "Julho",
         "21.11"
        ],
        [
         "7",
         "Agosto",
         "21.39"
        ],
        [
         "8",
         "Setembro",
         "24.61"
        ],
        [
         "9",
         "Outubro",
         "23.86"
        ],
        [
         "10",
         "Novembro",
         "24.66"
        ],
        [
         "11",
         "Dezembro",
         "25.81"
        ]
       ],
       "shape": {
        "columns": 2,
        "rows": 12
       }
      },
      "text/html": [
       "<div>\n",
       "<style scoped>\n",
       "    .dataframe tbody tr th:only-of-type {\n",
       "        vertical-align: middle;\n",
       "    }\n",
       "\n",
       "    .dataframe tbody tr th {\n",
       "        vertical-align: top;\n",
       "    }\n",
       "\n",
       "    .dataframe thead th {\n",
       "        text-align: right;\n",
       "    }\n",
       "</style>\n",
       "<table border=\"1\" class=\"dataframe\">\n",
       "  <thead>\n",
       "    <tr style=\"text-align: right;\">\n",
       "      <th></th>\n",
       "      <th>nome_mes</th>\n",
       "      <th>media_mes</th>\n",
       "    </tr>\n",
       "  </thead>\n",
       "  <tbody>\n",
       "    <tr>\n",
       "      <th>0</th>\n",
       "      <td>Janeiro</td>\n",
       "      <td>26.70</td>\n",
       "    </tr>\n",
       "    <tr>\n",
       "      <th>1</th>\n",
       "      <td>Fevereiro</td>\n",
       "      <td>27.20</td>\n",
       "    </tr>\n",
       "    <tr>\n",
       "      <th>2</th>\n",
       "      <td>Março</td>\n",
       "      <td>26.42</td>\n",
       "    </tr>\n",
       "    <tr>\n",
       "      <th>3</th>\n",
       "      <td>Abril</td>\n",
       "      <td>25.17</td>\n",
       "    </tr>\n",
       "    <tr>\n",
       "      <th>4</th>\n",
       "      <td>Maio</td>\n",
       "      <td>24.99</td>\n",
       "    </tr>\n",
       "    <tr>\n",
       "      <th>5</th>\n",
       "      <td>Junho</td>\n",
       "      <td>22.64</td>\n",
       "    </tr>\n",
       "    <tr>\n",
       "      <th>6</th>\n",
       "      <td>Julho</td>\n",
       "      <td>21.11</td>\n",
       "    </tr>\n",
       "    <tr>\n",
       "      <th>7</th>\n",
       "      <td>Agosto</td>\n",
       "      <td>21.39</td>\n",
       "    </tr>\n",
       "    <tr>\n",
       "      <th>8</th>\n",
       "      <td>Setembro</td>\n",
       "      <td>24.61</td>\n",
       "    </tr>\n",
       "    <tr>\n",
       "      <th>9</th>\n",
       "      <td>Outubro</td>\n",
       "      <td>23.86</td>\n",
       "    </tr>\n",
       "    <tr>\n",
       "      <th>10</th>\n",
       "      <td>Novembro</td>\n",
       "      <td>24.66</td>\n",
       "    </tr>\n",
       "    <tr>\n",
       "      <th>11</th>\n",
       "      <td>Dezembro</td>\n",
       "      <td>25.81</td>\n",
       "    </tr>\n",
       "  </tbody>\n",
       "</table>\n",
       "</div>"
      ],
      "text/plain": [
       "     nome_mes  media_mes\n",
       "0     Janeiro      26.70\n",
       "1   Fevereiro      27.20\n",
       "2       Março      26.42\n",
       "3       Abril      25.17\n",
       "4        Maio      24.99\n",
       "5       Junho      22.64\n",
       "6       Julho      21.11\n",
       "7      Agosto      21.39\n",
       "8    Setembro      24.61\n",
       "9     Outubro      23.86\n",
       "10   Novembro      24.66\n",
       "11   Dezembro      25.81"
      ]
     },
     "execution_count": 229,
     "metadata": {},
     "output_type": "execute_result"
    }
   ],
   "source": [
    "# Em formato de tabela\n",
    "temp_media_mes.head(12)"
   ]
  },
  {
   "cell_type": "markdown",
   "metadata": {},
   "source": [
    "### 5. Qual foi o tempo predominante em cada mês nesse período ?"
   ]
  },
  {
   "cell_type": "code",
   "execution_count": 230,
   "metadata": {},
   "outputs": [
    {
     "name": "stdout",
     "output_type": "stream",
     "text": [
      "Tempo predominante para cada mês:\n",
      "Janeiro: Chuva moderada\n",
      "Fevereiro: Garoa leve\n",
      "Março: Garoa leve\n",
      "Abril: Nublado\n",
      "Maio: Garoa leve\n",
      "Junho: Nublado\n",
      "Julho: Nublado\n",
      "Agosto: Ensolarado\n",
      "Setembro: Nublado\n",
      "Outubro: Nublado\n",
      "Novembro: Garoa leve\n",
      "Dezembro: Garoa leve\n"
     ]
    }
   ],
   "source": [
    "tempo_predominante = (\n",
    "    df_tempo.groupby('nome_mes', observed=True)\n",
    "    .agg(weather_code = ('weather_code', pd.Series.mode))\n",
    "    .reset_index()\n",
    "    .sort_values('nome_mes')\n",
    "    .merge(df_wmo, on='weather_code', how='left')\n",
    ")\n",
    "\n",
    "tempo_predominante = traduzir_wmo_code(tempo_predominante, 'weather_code', 'desc_wmo_pt')\n",
    "\n",
    "print('Tempo predominante para cada mês:')\n",
    "for i in range(len(tempo_predominante)):\n",
    "    print(f'{tempo_predominante.iloc[i, 0]}: {tempo_predominante.iloc[i, -1]}')"
   ]
  },
  {
   "cell_type": "markdown",
   "metadata": {},
   "source": [
    "### 6. Qual foi o tempo e a temperatura média em cada feriado de 01/01/2024 a 01/08/2024?"
   ]
  },
  {
   "cell_type": "code",
   "execution_count": 231,
   "metadata": {},
   "outputs": [
    {
     "name": "stdout",
     "output_type": "stream",
     "text": [
      "Tempo e Temperatura média para os feriados que ocorreram entre 01/01/2024 e 01/08/2024:\n",
      "Feriado de Confraternização Universal (01 de janeiro de 2024): Garoa leve com temperatura média de 24.9°C.\n",
      "Feriado de Carnaval (12 de fevereiro de 2024): Nublado com temperatura média de 30.2°C.\n",
      "Feriado de Carnaval (13 de fevereiro de 2024): Garoa leve com temperatura média de 30.5°C.\n",
      "Feriado de Sexta-feira Santa (29 de março de 2024): Chuva leve com temperatura média de 25.0°C.\n",
      "Feriado de Domingo de Páscoa (31 de março de 2024): Garoa moderada com temperatura média de 24.5°C.\n",
      "Feriado de Dia de Tiradentes (21 de abril de 2024): Parcialmente nublado com temperatura média de 23.1°C.\n",
      "Feriado de Dia do Trabalhador (01 de maio de 2024): Ensolarado com temperatura média de 28.1°C.\n",
      "Feriado de Corpus Christi (30 de maio de 2024): Garoa leve com temperatura média de 20.8°C.\n",
      "Feriado de Revolução Constitucionalista de 1932 (09 de julho de 2024): Garoa moderada com temperatura média de 21.5°C.\n"
     ]
    }
   ],
   "source": [
    "tempo_feriados_ate_agosto = (\n",
    "    df_feriado.loc[df_feriado['date'] <= '2024-08-01', :]\n",
    "    .merge(df_tempo, left_on='date', right_on='time', how='left')\n",
    ")\n",
    "\n",
    "tempo_feriados_ate_agosto = (\n",
    "    traduzir_wmo_code(tempo_feriados_ate_agosto, 'weather_code', 'desc_wmo_pt')\n",
    "    .loc[:, ['date', 'localName', 'temperature_2m_mean', 'desc_wmo_pt']]\n",
    "    .assign(\n",
    "        date_str = lambda x: x.date.dt.strftime('%d de %B de %Y')\n",
    "    )\n",
    ")\n",
    "\n",
    "print('Tempo e Temperatura média para os feriados que ocorreram entre 01/01/2024 e 01/08/2024:')\n",
    "\n",
    "for i in range(len(tempo_feriados_ate_agosto)):\n",
    "    print(f'Feriado de {tempo_feriados_ate_agosto.iloc[i,1]} ({tempo_feriados_ate_agosto.iloc[i, -1]}): {tempo_feriados_ate_agosto.iloc[i, -2]} com temperatura média de {tempo_feriados_ate_agosto.iloc[i, 2]}°C.')"
   ]
  },
  {
   "cell_type": "markdown",
   "metadata": {},
   "source": [
    "### 7. Considerando as suposições dadas, houve algum feriado 'não aproveitável' em 2024? Se sim, qual(ais)?"
   ]
  },
  {
   "cell_type": "code",
   "execution_count": 232,
   "metadata": {},
   "outputs": [
    {
     "name": "stdout",
     "output_type": "stream",
     "text": [
      "Sim, houveram 13 feriados não aproveitáveis em 2024.\n",
      "Segue lista abaixo:\n",
      "\n",
      "Feriado de Confraternização Universal (01 de janeiro de 2024): Garoa leve com temperatura média de 24.9°C.\n",
      "Feriado de Carnaval (12 de fevereiro de 2024): Nublado com temperatura média de 30.2°C.\n",
      "Feriado de Carnaval (13 de fevereiro de 2024): Garoa leve com temperatura média de 30.5°C.\n",
      "Feriado de Sexta-feira Santa (29 de março de 2024): Chuva leve com temperatura média de 25.0°C.\n",
      "Feriado de Domingo de Páscoa (31 de março de 2024): Garoa moderada com temperatura média de 24.5°C.\n",
      "Feriado de Corpus Christi (30 de maio de 2024): Garoa leve com temperatura média de 20.8°C.\n",
      "Feriado de Revolução Constitucionalista de 1932 (09 de julho de 2024): Garoa moderada com temperatura média de 21.5°C.\n",
      "Feriado de Dia da Independência (07 de setembro de 2024): Nublado com temperatura média de 24.3°C.\n",
      "Feriado de Nossa Senhora Aparecida (12 de outubro de 2024): Chuva moderada com temperatura média de 26.1°C.\n",
      "Feriado de Dia de Finados (02 de novembro de 2024): Garoa leve com temperatura média de 24.9°C.\n",
      "Feriado de Proclamação da República (15 de novembro de 2024): Garoa moderada com temperatura média de 23.9°C.\n",
      "Feriado de Dia da Consciência Negra (20 de novembro de 2024): Nublado com temperatura média de 25.2°C.\n",
      "Feriado de Natal (25 de dezembro de 2024): Nublado com temperatura média de 27.5°C.\n"
     ]
    }
   ],
   "source": [
    "tempo_feriados = (\n",
    "    df_feriado.merge(df_tempo, left_on='date', right_on='time', how='left')\n",
    ")\n",
    "\n",
    "tempo_feriados = (\n",
    "    traduzir_wmo_code(tempo_feriados, 'weather_code', 'desc_wmo_pt')\n",
    "    .loc[:, ['date', 'localName', 'weather_code', 'temperature_2m_mean', 'desc_wmo_pt']]\n",
    "    .assign(\n",
    "        date_str = lambda x: x.date.dt.strftime('%d de %B de %Y')\n",
    "    )\n",
    ")\n",
    "\n",
    "condicoes_praia = (tempo_feriados['temperature_2m_mean'] < 20) | ~(tempo_feriados['weather_code'].isin([0, 1, 2]))\n",
    "\n",
    "feriados_n_aproveitados = tempo_feriados.loc[condicoes_praia]\n",
    "\n",
    "qtd_feriados_n_aproveitados = feriados_n_aproveitados['date'].count()\n",
    "\n",
    "print(f'Sim, houveram {qtd_feriados_n_aproveitados} feriados não aproveitáveis em 2024.\\nSegue lista abaixo:\\n')\n",
    "\n",
    "for i in range(len(feriados_n_aproveitados)):\n",
    "    print(f'Feriado de {feriados_n_aproveitados.iloc[i,1]} ({feriados_n_aproveitados.iloc[i, -1]}): {feriados_n_aproveitados.iloc[i, -2]} com temperatura média de {feriados_n_aproveitados.iloc[i, 3]}°C.')"
   ]
  },
  {
   "cell_type": "markdown",
   "metadata": {},
   "source": [
    "### 8. Qual foi o feriado 'mais aproveitável' de 2024?"
   ]
  },
  {
   "cell_type": "code",
   "execution_count": 233,
   "metadata": {},
   "outputs": [
    {
     "name": "stdout",
     "output_type": "stream",
     "text": [
      "O melhor feriado para praia foi o Dia do Trabalhador que ocorreu no dia 01 de maio de 2024.\n"
     ]
    }
   ],
   "source": [
    "condicao_melhor_praia = (tempo_feriados['temperature_2m_mean'] >= 20) & (tempo_feriados['weather_code'].isin([0, 1, 2]))\n",
    "\n",
    "melhor_feriado_praia = tempo_feriados.loc[condicao_melhor_praia].sort_values('weather_code')\n",
    "\n",
    "print(f'O melhor feriado para praia foi o {melhor_feriado_praia.iloc[0, 1]} que ocorreu no dia {melhor_feriado_praia.iloc[0, -1]}.')"
   ]
  }
 ],
 "metadata": {
  "kernelspec": {
   "display_name": "Python 3",
   "language": "python",
   "name": "python3"
  },
  "language_info": {
   "codemirror_mode": {
    "name": "ipython",
    "version": 3
   },
   "file_extension": ".py",
   "mimetype": "text/x-python",
   "name": "python",
   "nbconvert_exporter": "python",
   "pygments_lexer": "ipython3",
   "version": "3.12.9"
  }
 },
 "nbformat": 4,
 "nbformat_minor": 2
}
