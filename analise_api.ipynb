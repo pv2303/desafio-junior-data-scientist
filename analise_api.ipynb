{
 "cells": [
  {
   "cell_type": "markdown",
   "metadata": {},
   "source": [
    "# Resposta às perguntas do arquivo \"perguntas_api.md\"\n",
    "\n",
    "**Tema: Integração com APIs - Feriados e Tempo**\n",
    "\n",
    "### APIs públicas a serem utilizadas:\n",
    "- [Public Holiday API](https://date.nager.at/Api)\n",
    "- [Open-Meteo Historical Weather API](https://open-meteo.com/)"
   ]
  },
  {
   "cell_type": "code",
   "execution_count": null,
   "metadata": {},
   "outputs": [],
   "source": [
    "# Libs necessárias\n",
    "import requests\n",
    "import pandas as pd\n",
    "\n",
    "def df_"
   ]
  },
  {
   "cell_type": "code",
   "execution_count": 52,
   "metadata": {},
   "outputs": [
    {
     "name": "stdout",
     "output_type": "stream",
     "text": [
      "         date                             localName\n",
      "0  2024-01-01            Confraternização Universal\n",
      "1  2024-02-12                              Carnaval\n",
      "2  2024-02-13                              Carnaval\n",
      "3  2024-03-29                     Sexta-feira Santa\n",
      "4  2024-03-31                     Domingo de Páscoa\n",
      "5  2024-04-21                     Dia de Tiradentes\n",
      "6  2024-05-01                    Dia do Trabalhador\n",
      "7  2024-05-30                        Corpus Christi\n",
      "8  2024-07-09  Revolução Constitucionalista de 1932\n",
      "9  2024-09-07                  Dia da Independência\n",
      "10 2024-10-12               Nossa Senhora Aparecida\n",
      "11 2024-11-02                        Dia de Finados\n",
      "12 2024-11-15              Proclamação da República\n",
      "13 2024-11-20              Dia da Consciência Negra\n",
      "14 2024-12-25                                 Natal\n"
     ]
    }
   ],
   "source": [
    "# Dados de feriado\n",
    "\n",
    "# url\n",
    "year = '2024'\n",
    "country = 'BR'\n",
    "feriado_api_url = f'https://date.nager.at/api/v3/publicholidays/{year}/{country}'\n",
    "\n",
    "# Requisição\n",
    "resp_feriado = requests.get(feriado_api_url)\n",
    "\n",
    "# Só converte se o status for 200\n",
    "if resp_feriado.status_code == 200:\n",
    "    feriado = resp_feriado.json()\n",
    "    df_feriado = pd.DataFrame(feriado)\n",
    "    \n",
    "    df_feriado = df_feriado.loc[:, ['date', 'localName']]\n",
    "    df_feriado['date'] = pd.to_datetime(df_feriado['date'])\n",
    "    print(df_feriado)\n",
    "else:\n",
    "    print(\"A requisição falhou.\")\n",
    "\n"
   ]
  },
  {
   "cell_type": "markdown",
   "metadata": {},
   "source": [
    "### 1. Quantos feriados há no Brasil em todo o ano de 2024?"
   ]
  },
  {
   "cell_type": "code",
   "execution_count": 53,
   "metadata": {},
   "outputs": [
    {
     "name": "stdout",
     "output_type": "stream",
     "text": [
      "Total de feriados no Brasil em 2024: 15\n"
     ]
    }
   ],
   "source": [
    "total_feriados = df_feriado['date'].count()\n",
    "\n",
    "print(f'Total de feriados no Brasil em 2024: {total_feriados}')"
   ]
  },
  {
   "cell_type": "markdown",
   "metadata": {},
   "source": [
    "### 2. Qual mês de 2024 tem o maior número de feriados?"
   ]
  },
  {
   "cell_type": "code",
   "execution_count": 54,
   "metadata": {},
   "outputs": [
    {
     "name": "stdout",
     "output_type": "stream",
     "text": [
      "O mês com o maior número de feriados com o Novembro com 3 feriados em 2024.\n"
     ]
    }
   ],
   "source": [
    "mes_mais_feriados = df_feriado['date'].dt.month_name(locale='Portuguese_Brazil.1252').value_counts().reset_index()\n",
    "\n",
    "print(f'O mês com o maior número de feriados com o {mes_mais_feriados.iloc[0, 0]} com {mes_mais_feriados.iloc[0, 1]} feriados em 2024.')"
   ]
  },
  {
   "cell_type": "markdown",
   "metadata": {},
   "source": [
    "### 3. Quantos feriados em 2024 caem em dias de semana (segunda a sexta-feira)?"
   ]
  },
  {
   "cell_type": "code",
   "execution_count": 56,
   "metadata": {},
   "outputs": [
    {
     "name": "stdout",
     "output_type": "stream",
     "text": [
      "O ano de 2024 teve 8 feriados que caíram em dias da semana.\n"
     ]
    }
   ],
   "source": [
    "feriados_dias_semana = df_feriado.loc[df_feriado['date'].dt.day_of_week < 4, 'date'].count()\n",
    "print(f'O ano de 2024 teve {feriados_dias_semana} feriados que caíram em dias da semana.')"
   ]
  },
  {
   "cell_type": "markdown",
   "metadata": {},
   "source": [
    "### 4. Qual foi a temperatura média em cada mês?"
   ]
  },
  {
   "cell_type": "code",
   "execution_count": null,
   "metadata": {},
   "outputs": [],
   "source": []
  }
 ],
 "metadata": {
  "kernelspec": {
   "display_name": "Python 3",
   "language": "python",
   "name": "python3"
  },
  "language_info": {
   "codemirror_mode": {
    "name": "ipython",
    "version": 3
   },
   "file_extension": ".py",
   "mimetype": "text/x-python",
   "name": "python",
   "nbconvert_exporter": "python",
   "pygments_lexer": "ipython3",
   "version": "3.12.9"
  }
 },
 "nbformat": 4,
 "nbformat_minor": 2
}
